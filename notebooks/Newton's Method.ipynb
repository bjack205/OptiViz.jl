{
 "cells": [
  {
   "cell_type": "code",
   "execution_count": 165,
   "metadata": {},
   "outputs": [
    {
     "name": "stderr",
     "output_type": "stream",
     "text": [
      "\u001b[32m\u001b[1m Activating\u001b[22m\u001b[39m environment at `~/.julia/dev/OptiViz/Project.toml`\n"
     ]
    }
   ],
   "source": [
    "import Pkg; Pkg.activate(joinpath(@__DIR__, \"..\"))\n",
    "using LinearAlgebra\n",
    "using Makie\n",
    "using WGLMakie\n",
    "using ForwardDiff\n",
    "WGLMakie.activate!()"
   ]
  },
  {
   "cell_type": "markdown",
   "metadata": {},
   "source": [
    "## Root-finding using Newton's Method"
   ]
  },
  {
   "cell_type": "code",
   "execution_count": 166,
   "metadata": {},
   "outputs": [
    {
     "data": {
      "text/plain": [
       "∇²f (generic function with 1 method)"
      ]
     },
     "execution_count": 166,
     "metadata": {},
     "output_type": "execute_result"
    }
   ],
   "source": [
    "f(x) = (x-1)*(x-3)*(x-5)*x\n",
    "∇f(x) = ForwardDiff.derivative(f,x)\n",
    "∇²f(x) = ForwardDiff.derivative(x_->ForwardDiff.derivative(f,x_),x)"
   ]
  },
  {
   "cell_type": "code",
   "execution_count": 167,
   "metadata": {},
   "outputs": [
    {
     "data": {
      "text/html": [
       "<iframe src=\"http://127.0.0.1:8081/217d5546-5546-4405-8106-89796fb0bc8b\" id=\"217d5546-5546-4405-8106-89796fb0bc8b\" style=\"position: relative; display: block; width: 100%; height: 100%; padding: 0; overflow: hidden; border: none\" scrolling=\"no\">\n",
       "</iframe>\n",
       "\n",
       "<script>\n",
       "function resize_jsserve_iframe(event) {\n",
       "   if (event.origin !== \"http://127.0.0.1:8081\") {\n",
       "       return;\n",
       "   }\n",
       "   const uuid = event.data[0];\n",
       "   const width = event.data[1];\n",
       "   const height = event.data[2];\n",
       "   const iframe = document.getElementById(uuid);\n",
       "   if (iframe) {\n",
       "       iframe.style.width = width + \"px\";\n",
       "       iframe.style.height = height + \"px\";\n",
       "   }\n",
       "};\n",
       "if (window.addEventListener) {\n",
       "   window.addEventListener(\"message\", resize_jsserve_iframe, false);\n",
       "} else if (window.attachEvent) {\n",
       "   window.attachEvent(\"onmessage\", resize_jsserve_iframe);\n",
       "}\n",
       "\n",
       "</script>\n",
       "\n"
      ]
     },
     "execution_count": 167,
     "metadata": {},
     "output_type": "execute_result"
    }
   ],
   "source": [
    "N = 101\n",
    "x = range(-0.5,5.5,length=N)\n",
    "s = lines(x, f.(x))\n",
    "xlims!(s, x[1], x[end])\n",
    "ylims!(s, -12, 30)\n",
    "\n",
    "# Initial Point\n",
    "x1 = Node(3.8)\n",
    "y1 = @lift f($x1)\n",
    "p1 = @lift Point($x1, $y1)\n",
    "scatter!(s, p1, color=:blue)\n",
    "\n",
    "# Plot Tangent Line\n",
    "xt = @lift range($x1-10,$x1+10,length=3)\n",
    "yt = @lift $y1 .+ ∇f($x1)*($xt .- $x1)\n",
    "lines!(s, xt, yt, color=:blue)\n",
    "\n",
    "# Newton Step\n",
    "x2 = @lift $x1 - $y1/∇f($x1)\n",
    "y2 = @lift f($x2)\n",
    "p2 = @lift Point($x2, $y2)\n",
    "\n",
    "# Error\n",
    "err = @lift [Point($x2,0), $p2]\n",
    "lines!(s, err, color=:red)\n",
    "scatter!(s, p2, color=:green)"
   ]
  },
  {
   "cell_type": "code",
   "execution_count": 59,
   "metadata": {},
   "outputs": [],
   "source": [
    "# Initial Guess\n",
    "x1[] = 3.99;"
   ]
  },
  {
   "cell_type": "code",
   "execution_count": 67,
   "metadata": {},
   "outputs": [
    {
     "name": "stdout",
     "output_type": "stream",
     "text": [
      "Step Size: 0.0\n",
      "Error: 0.0\n",
      "New x: 3.0\n"
     ]
    }
   ],
   "source": [
    "# Newton's method\n",
    "x = x1[]                # get current value of x\n",
    "dx = -f(x)/∇f(x)        # Compute new value using Newton's Method\n",
    "x1[] = x + dx           # set new value of x\n",
    "println(\"Step Size: \", abs(dx))\n",
    "println(\"Error: \", abs(f(x+dx)))\n",
    "println(\"New x: \", x+dx)"
   ]
  },
  {
   "cell_type": "markdown",
   "metadata": {},
   "source": [
    "## Minimization using Newton's Method"
   ]
  },
  {
   "cell_type": "code",
   "execution_count": 68,
   "metadata": {},
   "outputs": [
    {
     "data": {
      "text/html": [
       "<iframe src=\"http://127.0.0.1:8081/7a229668-9e94-43d8-ac43-2e5f4dd02005\" id=\"7a229668-9e94-43d8-ac43-2e5f4dd02005\" style=\"position: relative; display: block; width: 100%; height: 100%; padding: 0; overflow: hidden; border: none\" scrolling=\"no\">\n",
       "</iframe>\n",
       "\n",
       "<script>\n",
       "function resize_jsserve_iframe(event) {\n",
       "   if (event.origin !== \"http://127.0.0.1:8081\") {\n",
       "       return;\n",
       "   }\n",
       "   const uuid = event.data[0];\n",
       "   const width = event.data[1];\n",
       "   const height = event.data[2];\n",
       "   const iframe = document.getElementById(uuid);\n",
       "   if (iframe) {\n",
       "       iframe.style.width = width + \"px\";\n",
       "       iframe.style.height = height + \"px\";\n",
       "   }\n",
       "};\n",
       "if (window.addEventListener) {\n",
       "   window.addEventListener(\"message\", resize_jsserve_iframe, false);\n",
       "} else if (window.attachEvent) {\n",
       "   window.attachEvent(\"onmessage\", resize_jsserve_iframe);\n",
       "}\n",
       "\n",
       "</script>\n",
       "\n"
      ]
     },
     "execution_count": 68,
     "metadata": {},
     "output_type": "execute_result"
    }
   ],
   "source": [
    "# Plot function\n",
    "N = 101\n",
    "xs = range(-0.5,5.5,length=N)\n",
    "s = lines(xs, f.(xs))\n",
    "xlims!(s, xs[1], xs[end])\n",
    "ylims!(s, -12, 30)\n",
    "\n",
    "# Initial point\n",
    "x1[] = 5.2\n",
    "scatter!(s, p1, color=:blue)\n",
    "\n",
    "# Create a quadratic approximation\n",
    "m(x,x0) = f(x0) + ∇f(x0)*(x - x0) + 0.5*∇²f(x0)*(x-x0)^2\n",
    "xq = @lift range($x1-5,$x1+5,length=100)\n",
    "yq = @lift m.($xq,$x1)\n",
    "lines!(s, xq, yq, color=:blue)\n",
    "\n",
    "# Take Newton step\n",
    "δx = @lift -∇f($x1)/∇²f($x1)\n",
    "x2 = @lift $x1 + $δx\n",
    "y2 = @lift f($x2)\n",
    "p2 = @lift Point($x2, $y2)\n",
    "scatter!(s, p2, color=:green)\n",
    "\n",
    "# Plot the error\n",
    "err2 = @lift [Point($x2, m($x2,$x1)), $p2]\n",
    "lines!(s, err2, color=:red)"
   ]
  },
  {
   "cell_type": "code",
   "execution_count": 73,
   "metadata": {},
   "outputs": [
    {
     "name": "stdout",
     "output_type": "stream",
     "text": [
      "Gradient Norm: 1.6813439529528296e-10\n",
      "Model Error: 0.0\n",
      "New x: 4.253749245867311\n",
      "Value: -12.949453288874253\n"
     ]
    }
   ],
   "source": [
    "# Newton's Method\n",
    "x = x1[]                # Get current value\n",
    "dx = -∇f(x) / ∇²f(x)    # Compute step direction\n",
    "x_new = x + dx          # New iterate\n",
    "x1[] = x + dx           # save new step\n",
    "\n",
    "println(\"Gradient Norm: \", norm(∇f(x1[])))\n",
    "println(\"Model Error: \", abs(m(x_new, x) - f(x_new)))\n",
    "println(\"New x: \", x_new)\n",
    "println(\"Value: \", f(x_new))"
   ]
  },
  {
   "cell_type": "code",
   "execution_count": 74,
   "metadata": {},
   "outputs": [
    {
     "data": {
      "text/html": [
       "<iframe src=\"http://127.0.0.1:8081/7b830733-7e62-4fea-b122-01db6652d8e2\" id=\"7b830733-7e62-4fea-b122-01db6652d8e2\" style=\"position: relative; display: block; width: 100%; height: 100%; padding: 0; overflow: hidden; border: none\" scrolling=\"no\">\n",
       "</iframe>\n",
       "\n",
       "<script>\n",
       "function resize_jsserve_iframe(event) {\n",
       "   if (event.origin !== \"http://127.0.0.1:8081\") {\n",
       "       return;\n",
       "   }\n",
       "   const uuid = event.data[0];\n",
       "   const width = event.data[1];\n",
       "   const height = event.data[2];\n",
       "   const iframe = document.getElementById(uuid);\n",
       "   if (iframe) {\n",
       "       iframe.style.width = width + \"px\";\n",
       "       iframe.style.height = height + \"px\";\n",
       "   }\n",
       "};\n",
       "if (window.addEventListener) {\n",
       "   window.addEventListener(\"message\", resize_jsserve_iframe, false);\n",
       "} else if (window.attachEvent) {\n",
       "   window.attachEvent(\"onmessage\", resize_jsserve_iframe);\n",
       "}\n",
       "\n",
       "</script>\n",
       "\n"
      ]
     },
     "execution_count": 74,
     "metadata": {},
     "output_type": "execute_result"
    }
   ],
   "source": [
    "scene, layout = layoutscene(30, resolution=(800,800))\n",
    "ax1 = layout[1,1] = LAxis(scene, title = \"Function\")\n",
    "ax2 = layout[2,1] = LAxis(scene, title = \"Gradient\")\n",
    "\n",
    "lines!(ax1, xs, f.(xs))\n",
    "lines!(ax2, xs, ∇f.(xs))\n",
    "hlines!(ax2, [0], color=:gray)\n",
    "\n",
    "# Initial point\n",
    "x1[] = 5.2\n",
    "scatter!(ax1, p1, color=:blue)\n",
    "\n",
    "# Create a quadratic approximation\n",
    "m(x,x0) = f(x0) + ∇f(x0)*(x - x0) + 0.5*∇²f(x0)*(x-x0)^2\n",
    "xq = @lift range($x1-5,$x1+5,length=100)\n",
    "yq = @lift m.($xq,$x1)\n",
    "lines!(ax1, xq, yq, color=:blue)\n",
    "\n",
    "# Take Newton step\n",
    "δx = @lift -∇f($x1)/∇²f($x1)\n",
    "x2 = @lift $x1 + $δx\n",
    "y2 = @lift f($x2)\n",
    "p2 = @lift Point($x2, $y2)\n",
    "scatter!(ax1, p2, color=:green)\n",
    "\n",
    "# Plot the error\n",
    "err2 = @lift [Point($x2, m($x2,$x1)), $p2]\n",
    "lines!(ax1, err2, color=:red)\n",
    "\n",
    "# Initial Point\n",
    "z1 = @lift ∇f($x1)\n",
    "d1 = @lift Point($x1, $z1)\n",
    "scatter!(ax2, d1, color=:blue)\n",
    "\n",
    "# Plot Tangent Line\n",
    "xt = @lift range($x1-10,$x1+10,length=3)\n",
    "yt = @lift $z1 .+ ∇²f($x1)*($xt .- $x1)\n",
    "lines!(ax2, xt, yt, color=:blue)\n",
    "\n",
    "# Newton Step\n",
    "z2 = @lift ∇f($x2)\n",
    "d2 = @lift Point($x2, $z2)\n",
    "\n",
    "# Error\n",
    "err = @lift [Point($x2,0), $d2]\n",
    "lines!(ax2, err, color=:red)\n",
    "scatter!(ax2, d2, color=:green)\n",
    "\n",
    "ylims!(ax1, -14, 35)\n",
    "ylims!(ax2, -50, 90)\n",
    "xlims!(ax1,xs[1],xs[end])\n",
    "xlims!(ax2,xs[1],xs[end])\n",
    "scene"
   ]
  },
  {
   "cell_type": "code",
   "execution_count": 81,
   "metadata": {},
   "outputs": [
    {
     "name": "stdout",
     "output_type": "stream",
     "text": [
      "Gradient Norm: 9.325873406851315e-15\n",
      "Model Error: 0.0\n",
      "New x: 4.253749245862282\n",
      "Value: -12.949453288874254\n"
     ]
    }
   ],
   "source": [
    "# Newton's Method\n",
    "x = x1[]                # Get current value\n",
    "dx = -∇f(x) / ∇²f(x)    # Compute step direction\n",
    "x_new = x + dx          # New iterate\n",
    "x1[] = x + dx           # save new step\n",
    "\n",
    "println(\"Gradient Norm: \", norm(∇f(x1[])))\n",
    "println(\"Model Error: \", abs(m(x_new, x) - f(x_new)))\n",
    "println(\"New x: \", x_new)\n",
    "println(\"Value: \", f(x_new))"
   ]
  },
  {
   "cell_type": "markdown",
   "metadata": {},
   "source": [
    "## Line Search"
   ]
  },
  {
   "cell_type": "code",
   "execution_count": 164,
   "metadata": {},
   "outputs": [
    {
     "data": {
      "text/html": [
       "<iframe src=\"http://127.0.0.1:8081/906236b6-793b-4876-ae66-92bf1a12706c\" id=\"906236b6-793b-4876-ae66-92bf1a12706c\" style=\"position: relative; display: block; width: 100%; height: 100%; padding: 0; overflow: hidden; border: none\" scrolling=\"no\">\n",
       "</iframe>\n",
       "\n",
       "<script>\n",
       "function resize_jsserve_iframe(event) {\n",
       "   if (event.origin !== \"http://127.0.0.1:8081\") {\n",
       "       return;\n",
       "   }\n",
       "   const uuid = event.data[0];\n",
       "   const width = event.data[1];\n",
       "   const height = event.data[2];\n",
       "   const iframe = document.getElementById(uuid);\n",
       "   if (iframe) {\n",
       "       iframe.style.width = width + \"px\";\n",
       "       iframe.style.height = height + \"px\";\n",
       "   }\n",
       "};\n",
       "if (window.addEventListener) {\n",
       "   window.addEventListener(\"message\", resize_jsserve_iframe, false);\n",
       "} else if (window.attachEvent) {\n",
       "   window.attachEvent(\"onmessage\", resize_jsserve_iframe);\n",
       "}\n",
       "\n",
       "</script>\n",
       "\n"
      ]
     },
     "execution_count": 164,
     "metadata": {},
     "output_type": "execute_result"
    }
   ],
   "source": [
    "# Try Changing these\n",
    "c1 = 0.1   # higher is more strict  (0 < c1 < 0.5)\n",
    "c2 = 0.9    # lower is more strict   (c1 < c2 < 1)\n",
    "\n",
    "# Create line search function\n",
    "x = 5.2\n",
    "dx = -∇f(x) / ∇²f(x)\n",
    "ϕ(α) = f(x + α*dx)\n",
    "ϕ′(α) = ∇f(x + α*dx)*dx\n",
    "α = range(0,10,length=101)\n",
    "phi = ϕ.(α)\n",
    "\n",
    "# Plot Wolfe Conditions\n",
    "suff = ϕ(0.0) .+ c1 .* α * ϕ′(0.0)                # Line for sufficient decrease (Armijo)\n",
    "gold = ϕ(0.0) .+ α * (1-c1)*ϕ′(0.0)               # Line for Goldstein curvature\n",
    "curv = fill(NaN,length(α))\n",
    "curv_strong = fill(NaN,length(α))\n",
    "good = fill(NaN,length(α))\n",
    "# gold = fill(NaN,length(α))\n",
    "igold = phi .>= ϕ(0) .+ (1-c1) * α * ϕ′(0)        # goldstein curvature\n",
    "icurv = ϕ′.(α) .> c2 * ϕ′(0)                      # curvature condition\n",
    "icurv_strong = abs.(ϕ′.(α)) .< c2 * abs(ϕ′(0))    # strong curvature condition\n",
    "isuff = phi .< suff                               # sufficient decrease condition (i.e. Armijo)\n",
    "igood = icurv_strong .& isuff                     # both satisfied\n",
    "# gold[igold] .= phi[igold]\n",
    "curv[icurv] .= phi[icurv]\n",
    "curv_strong[icurv_strong] .= phi[icurv_strong]\n",
    "good[igood] .= phi[igood]\n",
    "\n",
    "# Generate Plot\n",
    "s,layout = layoutscene()\n",
    "ax = layout[1,1] = LAxis(s, title = \"Line Search Conditions\")\n",
    "a = lines!(ax, α, phi)\n",
    "b = lines!(ax, α, suff, color=:orange, linewidth=1)\n",
    "c = lines!(ax, α, curv, color=:cyan, linewidth=2)\n",
    "d = lines!(ax, α, curv_strong, color=:blue, linewidth=3)\n",
    "e = lines!(ax, α, good, color=:green, linewidth=6)\n",
    "g = lines!(ax, α, gold, color=:red, linewidth=1)\n",
    "leg = LLegend(s, [a,b,c,d,e,g], \n",
    "    [\"ϕ\",\"Sufficient decrease\",\"Curvature condition\",\"Curvature condition (strong)\", \n",
    "        \"Strong Wolfe\",\"Goldstein curvature\"])\n",
    "\n",
    "layout[1,2] = leg\n",
    "ax.xlabel = \"step size (α)\"\n",
    "ax.ylabel = \"ϕ(α)\"\n",
    "ylims!(ax,[-15,30])\n",
    "s"
   ]
  }
 ],
 "metadata": {
  "kernelspec": {
   "display_name": "Julia 1.5.3",
   "language": "julia",
   "name": "julia-1.5"
  },
  "language_info": {
   "file_extension": ".jl",
   "mimetype": "application/julia",
   "name": "julia",
   "version": "1.5.3"
  }
 },
 "nbformat": 4,
 "nbformat_minor": 4
}
